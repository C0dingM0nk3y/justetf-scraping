{
 "cells": [
  {
   "cell_type": "markdown",
   "id": "894bd7ec",
   "metadata": {},
   "source": [
    "# Scraping the [justETF Screener](https://www.justetf.com/en/find-etf.html)"
   ]
  },
  {
   "cell_type": "markdown",
   "id": "b6360f23",
   "metadata": {},
   "source": [
    "## Content\n",
    "\n",
    "- [Request the data](#request)\n",
    "- [Clean up the data](#cleanup)\n",
    "- [Enrich the data](#enrich)\n",
    "- [Save the data](#save)\n",
    "- [Visualize some statistics](#visualize)\n",
    "- [Search over the data](#search)"
   ]
  },
  {
   "cell_type": "code",
   "execution_count": null,
   "id": "c27c8c10",
   "metadata": {},
   "outputs": [],
   "source": [
    "%load_ext autoreload"
   ]
  },
  {
   "cell_type": "code",
   "execution_count": null,
   "id": "2f064ff0",
   "metadata": {},
   "outputs": [],
   "source": [
    "%autoreload 1\n",
    "import pandas as pd\n",
    "import matplotlib.pyplot as plt\n",
    "import seaborn as sns\n",
    "\n",
    "%aimport utils"
   ]
  },
  {
   "cell_type": "code",
   "execution_count": null,
   "id": "e46bce02",
   "metadata": {},
   "outputs": [],
   "source": [
    "pd.set_option(\"display.max_columns\", None)"
   ]
  },
  {
   "cell_type": "markdown",
   "id": "b9c6def7",
   "metadata": {},
   "source": [
    "<a id=\"request\"></a>\n",
    "## Request the data"
   ]
  },
  {
   "cell_type": "code",
   "execution_count": null,
   "id": "8a977aec",
   "metadata": {},
   "outputs": [],
   "source": [
    "last_four_years = [\n",
    "    str((pd.Timestamp(\"now\") - pd.DateOffset(years=i)).year) for i in range(1, 5)\n",
    "]"
   ]
  },
  {
   "cell_type": "code",
   "execution_count": null,
   "id": "4690df4b",
   "metadata": {},
   "outputs": [],
   "source": [
    "DETAILS_KEY_MAPPING = {\n",
    "    # IDs\n",
    "    \"isin\": \"isin\",\n",
    "    \"wkn\": \"wkn\",\n",
    "    \"ticker\": \"ticker\",\n",
    "    \"valorNumber\": \"valor\",\n",
    "    # Basic info\n",
    "    \"name\": \"name\",\n",
    "    \"groupValue\": \"index\",\n",
    "    \"inceptionDate\": \"date\",\n",
    "    \"strategy\": \"strategy\",  # Custom field added during request\n",
    "    \"domicileCountry\": \"domicile_country\",\n",
    "    \"fundCurrency\": \"currency\",\n",
    "    \"hasSecuritiesLending\": \"securities_lending\",\n",
    "    \"distributionPolicy\": \"dividends\",\n",
    "    \"ter\": \"ter\",\n",
    "    \"replicationMethod\": \"replication\",\n",
    "    \"fundSize\": \"size\",\n",
    "    # Value return\n",
    "    \"ytdReturnCUR\": \"yesterday\",\n",
    "    \"weekReturnCUR\": \"last_week\",\n",
    "    \"monthReturnCUR\": \"last_month\",\n",
    "    \"threeMonthReturnCUR\": \"last_three_months\",\n",
    "    \"sixMonthReturnCUR\": \"last_six_months\",\n",
    "    \"yearReturnCUR\": \"last_year\",\n",
    "    \"threeYearReturnCUR\": \"last_three_years\",\n",
    "    \"fiveYearReturnCUR\": \"last_five_years\",\n",
    "    \"yearReturn1CUR\": last_four_years[0],\n",
    "    \"yearReturn2CUR\": last_four_years[1],\n",
    "    \"yearReturn3CUR\": last_four_years[2],\n",
    "    \"yearReturn4CUR\": last_four_years[3],\n",
    "    # Dividends\n",
    "    \"currentDividendYield\": \"last_dividends\",\n",
    "    \"yearDividendYield\": \"last_year_dividends\",\n",
    "    # Volatility\n",
    "    \"yearVolatilityCUR\": \"last_year_volatility\",\n",
    "    \"threeYearVolatilityCUR\": \"last_three_years_volatility\",\n",
    "    \"fiveYearVolatilityCUR\": \"last_five_years_volatility\",\n",
    "    # Return/Risk\n",
    "    \"yearReturnPerRiskCUR\": \"last_year_return_per_risk\",\n",
    "    \"threeYearReturnPerRiskCUR\": \"last_three_years_return_per_risk\",\n",
    "    \"fiveYearReturnPerRiskCUR\": \"last_five_years_return_per_risk\",\n",
    "}"
   ]
  },
  {
   "cell_type": "code",
   "execution_count": null,
   "id": "f133b645",
   "metadata": {},
   "outputs": [],
   "source": [
    "INT64_COLUMNS = [\"valor\", \"size\"]\n",
    "CATEGORY_COLUMNS = [\"strategy\", \"domicile_country\", \"dividends\", \"replication\"]\n",
    "FLOAT_COLUMNS = [\n",
    "    \"ter\",\n",
    "    \"yesterday\",\n",
    "    \"last_week\",\n",
    "    \"last_month\",\n",
    "    \"last_three_months\",\n",
    "    \"last_six_months\",\n",
    "    \"last_year\",\n",
    "    \"last_three_years\",\n",
    "    \"last_five_years\",\n",
    "    \"last_dividends\",\n",
    "    \"last_year_dividends\",\n",
    "    \"last_year_volatility\",\n",
    "    \"last_three_years_volatility\",\n",
    "    \"last_five_years_volatility\",\n",
    "    \"last_year_return_per_risk\",\n",
    "    \"last_three_years_return_per_risk\",\n",
    "    \"last_five_years_return_per_risk\",\n",
    "] + last_four_years"
   ]
  },
  {
   "cell_type": "code",
   "execution_count": null,
   "id": "89994e34",
   "metadata": {},
   "outputs": [],
   "source": [
    "data = {key: [] for key in DETAILS_KEY_MAPPING}\n",
    "for sample in utils.make_request():\n",
    "    for key, values in data.items():\n",
    "        values.append(sample[key])"
   ]
  },
  {
   "cell_type": "code",
   "execution_count": null,
   "id": "e0cbe11d",
   "metadata": {},
   "outputs": [],
   "source": [
    "etf_df = pd.DataFrame(data).rename(columns=DETAILS_KEY_MAPPING)"
   ]
  },
  {
   "cell_type": "code",
   "execution_count": null,
   "id": "8a759314",
   "metadata": {},
   "outputs": [],
   "source": [
    "etf_df.shape"
   ]
  },
  {
   "cell_type": "code",
   "execution_count": null,
   "id": "0f79e75b",
   "metadata": {},
   "outputs": [],
   "source": [
    "etf_df.head(3)"
   ]
  },
  {
   "cell_type": "code",
   "execution_count": null,
   "id": "92166713",
   "metadata": {},
   "outputs": [],
   "source": [
    "len(etf_df[\"isin\"].unique())"
   ]
  },
  {
   "cell_type": "markdown",
   "id": "b0bdb07f",
   "metadata": {},
   "source": [
    "<a id=\"cleanup\"></a>\n",
    "## Clean up the data"
   ]
  },
  {
   "cell_type": "code",
   "execution_count": null,
   "id": "48ec7590",
   "metadata": {},
   "outputs": [],
   "source": [
    "for column in etf_df:\n",
    "    etf_df[column] = (\n",
    "        etf_df[column]\n",
    "        .str.replace(\"<br />\", \" \")\n",
    "        .str.replace(\",\", \"\")\n",
    "        .replace(\"-\", pd.NA)\n",
    "    )"
   ]
  },
  {
   "cell_type": "code",
   "execution_count": null,
   "id": "3f3b044b-6be4-40e1-88a3-21962f3e7942",
   "metadata": {},
   "outputs": [],
   "source": [
    "for column in INT64_COLUMNS:\n",
    "    etf_df[column] = etf_df[column].astype(\"Int64\")"
   ]
  },
  {
   "cell_type": "code",
   "execution_count": null,
   "id": "9af330c4",
   "metadata": {},
   "outputs": [],
   "source": [
    "for column in CATEGORY_COLUMNS:\n",
    "    etf_df[column] = etf_df[column].astype(\"category\")"
   ]
  },
  {
   "cell_type": "code",
   "execution_count": null,
   "id": "55b9c191",
   "metadata": {},
   "outputs": [],
   "source": [
    "for column in FLOAT_COLUMNS:\n",
    "    etf_df[column] = (\n",
    "        etf_df[column].str.removesuffix(\"%\").replace(pd.NA, \"nan\").astype(\"float64\")\n",
    "    )"
   ]
  },
  {
   "cell_type": "code",
   "execution_count": null,
   "id": "7c6661a0",
   "metadata": {},
   "outputs": [],
   "source": [
    "etf_df[\"date\"] = pd.to_datetime(etf_df[\"date\"], format=\"%d.%m.%y\")"
   ]
  },
  {
   "cell_type": "markdown",
   "id": "e786caf0",
   "metadata": {},
   "source": [
    "Keep insertion date, but also calculate age in years to simplify search over dataset."
   ]
  },
  {
   "cell_type": "code",
   "execution_count": null,
   "id": "aefc8ec1",
   "metadata": {},
   "outputs": [],
   "source": [
    "columns = etf_df.columns.tolist()\n",
    "etf_df[\"age\"] = (\n",
    "    pd.Timestamp(\"now\") - pd.to_datetime(etf_df[\"date\"], format=\"%d.%m.%y\")\n",
    ") / pd.to_timedelta(365, unit=\"D\")\n",
    "columns.insert(columns.index(\"date\") + 1, \"age\")\n",
    "etf_df = etf_df[columns]"
   ]
  },
  {
   "cell_type": "code",
   "execution_count": null,
   "id": "dba32a32",
   "metadata": {},
   "outputs": [],
   "source": [
    "etf_df[\"securities_lending\"] = (\n",
    "    etf_df[\"securities_lending\"].replace({\"Yes\": True, \"No\": False}).astype(\"bool\")\n",
    ")"
   ]
  },
  {
   "cell_type": "markdown",
   "id": "1246a9db",
   "metadata": {},
   "source": [
    "Separate hedged flag from currency."
   ]
  },
  {
   "cell_type": "code",
   "execution_count": null,
   "id": "0a1732df",
   "metadata": {},
   "outputs": [],
   "source": [
    "columns = etf_df.columns.tolist()\n",
    "columns.insert(columns.index(\"currency\") + 1, \"hedged\")\n",
    "etf_df[\"hedged\"] = etf_df[\"currency\"].str.endswith(\"Hedged\")\n",
    "etf_df[\"currency\"] = etf_df[\"currency\"].str.removesuffix(\" Hedged\").astype(\"category\")\n",
    "etf_df = etf_df[columns]"
   ]
  },
  {
   "cell_type": "code",
   "execution_count": null,
   "id": "94ba4084",
   "metadata": {},
   "outputs": [],
   "source": [
    "etf_df.head(3)"
   ]
  },
  {
   "cell_type": "markdown",
   "id": "24c8313f",
   "metadata": {},
   "source": [
    "<a id=\"enrich\"></a>\n",
    "## Enrich the data"
   ]
  },
  {
   "cell_type": "code",
   "execution_count": null,
   "id": "2a76cc90",
   "metadata": {},
   "outputs": [],
   "source": [
    "columns = etf_df.columns.tolist()"
   ]
  },
  {
   "cell_type": "code",
   "execution_count": null,
   "id": "618a4a3a",
   "metadata": {},
   "outputs": [],
   "source": [
    "etf_df[\"asset\"] = pd.NA\n",
    "for asset, name in utils.ASSETS.items():\n",
    "    isins = {sample[\"isin\"] for sample in utils.make_request(asset=asset)}\n",
    "    mask = etf_df[\"isin\"].isin(isins)\n",
    "    etf_df.loc[mask, \"asset\"] = name\n",
    "etf_df[\"asset\"] = etf_df[\"asset\"].astype(\"category\")"
   ]
  },
  {
   "cell_type": "code",
   "execution_count": null,
   "id": "5bd01add",
   "metadata": {},
   "outputs": [],
   "source": [
    "etf_df[\"instrument\"] = pd.NA\n",
    "for instrument, name in utils.INSTRUMENTS.items():\n",
    "    isins = {sample[\"isin\"] for sample in utils.make_request(instrument=instrument)}\n",
    "    mask = etf_df[\"isin\"].isin(isins)\n",
    "    etf_df.loc[mask, \"instrument\"] = name\n",
    "etf_df[\"instrument\"] = etf_df[\"instrument\"].astype(\"category\")"
   ]
  },
  {
   "cell_type": "code",
   "execution_count": null,
   "id": "b42ad665",
   "metadata": {},
   "outputs": [],
   "source": [
    "etf_df[\"region\"] = pd.NA\n",
    "for region, name in utils.REGIONS.items():\n",
    "    isins = {sample[\"isin\"] for sample in utils.make_request(region=region)}\n",
    "    mask = etf_df[\"isin\"].isin(isins)\n",
    "    etf_df.loc[mask, \"region\"] = name\n",
    "etf_df[\"region\"] = etf_df[\"region\"].astype(\"category\")"
   ]
  },
  {
   "cell_type": "code",
   "execution_count": null,
   "id": "b5804bc9",
   "metadata": {},
   "outputs": [],
   "source": [
    "new_columns = [\"asset\", \"instrument\", \"region\"]\n",
    "for exchange, name in utils.EXCHANGES.items():\n",
    "    name = f\"at_{name}\"\n",
    "    etf_df[name] = False\n",
    "    new_columns.append(name)\n",
    "    isins = {sample[\"isin\"] for sample in utils.make_request(exchange=exchange)}\n",
    "    mask = etf_df[\"isin\"].isin(isins)\n",
    "    etf_df.loc[mask, name] = True"
   ]
  },
  {
   "cell_type": "code",
   "execution_count": null,
   "id": "511a7b07",
   "metadata": {},
   "outputs": [],
   "source": [
    "etf_df = etf_df[\n",
    "    columns[: columns.index(\"size\") + 1]\n",
    "    + new_columns\n",
    "    + columns[columns.index(\"size\") + 1 :]\n",
    "]"
   ]
  },
  {
   "cell_type": "code",
   "execution_count": null,
   "id": "3ddcf5df",
   "metadata": {},
   "outputs": [],
   "source": [
    "etf_df.shape"
   ]
  },
  {
   "cell_type": "code",
   "execution_count": null,
   "id": "f74497f0",
   "metadata": {},
   "outputs": [],
   "source": [
    "etf_df.head(3)"
   ]
  },
  {
   "cell_type": "markdown",
   "id": "62c3b1ba",
   "metadata": {},
   "source": [
    "<a id=\"save\"></a>\n",
    "## Save the data"
   ]
  },
  {
   "cell_type": "code",
   "execution_count": null,
   "id": "07050b02",
   "metadata": {},
   "outputs": [],
   "source": [
    "etf_df.to_csv(\"justetf.csv\", index=False)"
   ]
  },
  {
   "cell_type": "markdown",
   "id": "2918934f",
   "metadata": {},
   "source": [
    "<a id=\"visualize\"></a>\n",
    "## Visualize some statistics"
   ]
  },
  {
   "cell_type": "code",
   "execution_count": null,
   "id": "f611bccd",
   "metadata": {},
   "outputs": [],
   "source": [
    "sns.histplot(etf_df, y=\"strategy\", hue=\"strategy\", discrete=True)"
   ]
  },
  {
   "cell_type": "code",
   "execution_count": null,
   "id": "2126dd4f",
   "metadata": {},
   "outputs": [],
   "source": [
    "sns.histplot(etf_df, y=\"instrument\", hue=\"instrument\", discrete=True)"
   ]
  },
  {
   "cell_type": "code",
   "execution_count": null,
   "id": "1f89cd65",
   "metadata": {},
   "outputs": [],
   "source": [
    "sns.histplot(etf_df, y=\"asset\", hue=\"asset\", discrete=True)"
   ]
  },
  {
   "cell_type": "code",
   "execution_count": null,
   "id": "2095a999",
   "metadata": {},
   "outputs": [],
   "source": [
    "sns.histplot(etf_df, y=\"region\", hue=\"region\", discrete=True)"
   ]
  },
  {
   "cell_type": "code",
   "execution_count": null,
   "id": "87525f69",
   "metadata": {},
   "outputs": [],
   "source": [
    "sns.histplot(etf_df, y=\"currency\", hue=\"currency\", discrete=True)"
   ]
  },
  {
   "cell_type": "code",
   "execution_count": null,
   "id": "23e4df6d",
   "metadata": {},
   "outputs": [],
   "source": [
    "sns.scatterplot(data=etf_df, x=\"age\", y=\"size\", alpha=0.5, linewidth=0)"
   ]
  },
  {
   "cell_type": "markdown",
   "id": "a49faf63",
   "metadata": {},
   "source": [
    "The most frequent indices."
   ]
  },
  {
   "cell_type": "code",
   "execution_count": null,
   "id": "27fa5f84",
   "metadata": {},
   "outputs": [],
   "source": [
    "index_counts = etf_df[\"index\"].value_counts()"
   ]
  },
  {
   "cell_type": "code",
   "execution_count": null,
   "id": "6a6acd0b",
   "metadata": {},
   "outputs": [],
   "source": [
    "sns.histplot(\n",
    "    etf_df[etf_df[\"index\"].isin(index_counts[index_counts > 7].index)],\n",
    "    y=\"index\",\n",
    "    discrete=True,\n",
    ")"
   ]
  },
  {
   "cell_type": "markdown",
   "id": "da70c3f3",
   "metadata": {},
   "source": [
    "<a id=\"search\"></a>\n",
    "## Search over the data"
   ]
  },
  {
   "cell_type": "markdown",
   "id": "e8ff462d",
   "metadata": {},
   "source": [
    "Compare accumulating MSCI World ETFs older than 2 years with fond size greater than € 50M."
   ]
  },
  {
   "cell_type": "code",
   "execution_count": null,
   "id": "d3990ffe",
   "metadata": {},
   "outputs": [],
   "source": [
    "acc_msci_world_df = etf_df[\n",
    "    (etf_df[\"index\"] == \"MSCI World\")\n",
    "    & (etf_df[\"dividends\"] == \"Accumulating\")\n",
    "    & (etf_df[\"age\"] > 2)\n",
    "    & (etf_df[\"size\"] > 50)\n",
    "]"
   ]
  },
  {
   "cell_type": "code",
   "execution_count": null,
   "id": "5f8f83de",
   "metadata": {},
   "outputs": [],
   "source": [
    "acc_msci_world_df.shape"
   ]
  },
  {
   "cell_type": "code",
   "execution_count": null,
   "id": "c546fe16",
   "metadata": {},
   "outputs": [],
   "source": [
    "acc_msci_world_df"
   ]
  },
  {
   "cell_type": "code",
   "execution_count": null,
   "id": "be4ed4e6",
   "metadata": {},
   "outputs": [],
   "source": [
    "COLUMNS_MAPPINGS = {\n",
    "    \"Short-term return\": {\n",
    "        \"isin\": \"isin\",\n",
    "        \"last_six_months\": \"Last 5 months\",\n",
    "        \"last_three_months\": \"Last 3 months\",\n",
    "        \"last_month\": \"Last month\",\n",
    "        \"last_week\": \"Last week\",\n",
    "        \"yesterday\": \"Yesterday\",\n",
    "    },\n",
    "    \"Mid-term return\": {\n",
    "        \"isin\": \"isin\",\n",
    "        \"last_five_years\": \"last 5 years\",\n",
    "        \"last_three_years\": \"last 3 years\",\n",
    "        \"last_year\": \"last year\",\n",
    "    },\n",
    "    \"Volatility\": {\n",
    "        \"isin\": \"isin\",\n",
    "        \"last_five_years_volatility\": \"Last 5 years\",\n",
    "        \"last_three_years_volatility\": \"Last 3 years\",\n",
    "        \"last_year_volatility\": \"Last year\",\n",
    "    },\n",
    "    \"Return/Risk\": {\n",
    "        \"isin\": \"isin\",\n",
    "        \"last_five_years_return_per_risk\": \"Last 5 years\",\n",
    "        \"last_three_years_return_per_risk\": \"Last 3 years\",\n",
    "        \"last_year_return_per_risk\": \"Last year\",\n",
    "    },\n",
    "}"
   ]
  },
  {
   "cell_type": "code",
   "execution_count": null,
   "id": "2059d974",
   "metadata": {},
   "outputs": [],
   "source": [
    "for title, mapping in COLUMNS_MAPPINGS.items():\n",
    "    df = acc_msci_world_df[mapping.keys()].rename(columns=mapping)\n",
    "    plt.figure(dpi=150)\n",
    "    ax = pd.plotting.parallel_coordinates(df, \"isin\", colormap=\"tab10\", alpha=0.75)\n",
    "    _ = ax.set_title(title)"
   ]
  },
  {
   "cell_type": "code",
   "execution_count": null,
   "id": "71e2a708",
   "metadata": {},
   "outputs": [],
   "source": [
    "df = acc_msci_world_df[[\"isin\"] + list(reversed(last_four_years))]"
   ]
  },
  {
   "cell_type": "code",
   "execution_count": null,
   "id": "e2015e56",
   "metadata": {},
   "outputs": [],
   "source": [
    "plt.figure(dpi=150)\n",
    "ax = pd.plotting.parallel_coordinates(df, \"isin\", colormap=\"tab10\", alpha=0.75)\n",
    "_ = ax.set_title(\"Return\")"
   ]
  },
  {
   "cell_type": "code",
   "execution_count": null,
   "id": "3362f657",
   "metadata": {},
   "outputs": [],
   "source": [
    "df = df.set_index(\"isin\")"
   ]
  },
  {
   "cell_type": "code",
   "execution_count": null,
   "id": "651a8e91",
   "metadata": {},
   "outputs": [],
   "source": [
    "ter = (100 - acc_msci_world_df.set_index(\"isin\")[\"ter\"]) / 100"
   ]
  },
  {
   "cell_type": "code",
   "execution_count": null,
   "id": "8eca25fb",
   "metadata": {},
   "outputs": [],
   "source": [
    "df = ((100 + df) / 100).mul(ter, axis=0)"
   ]
  },
  {
   "cell_type": "code",
   "execution_count": null,
   "id": "8f4bdd0f",
   "metadata": {},
   "outputs": [],
   "source": [
    "cum_df = df.copy()"
   ]
  },
  {
   "cell_type": "code",
   "execution_count": null,
   "id": "68286dbc",
   "metadata": {},
   "outputs": [],
   "source": [
    "df = (df * 100 - 100).reset_index()"
   ]
  },
  {
   "cell_type": "code",
   "execution_count": null,
   "id": "5cf6221f",
   "metadata": {},
   "outputs": [],
   "source": [
    "cum_df[last_four_years[1]] *= cum_df[last_four_years[0]]\n",
    "cum_df[last_four_years[2]] *= cum_df[last_four_years[1]]\n",
    "cum_df[last_four_years[3]] *= cum_df[last_four_years[2]]"
   ]
  },
  {
   "cell_type": "code",
   "execution_count": null,
   "id": "ae29c7fb",
   "metadata": {},
   "outputs": [],
   "source": [
    "cum_df = (cum_df * 100 - 100).reset_index()"
   ]
  },
  {
   "cell_type": "code",
   "execution_count": null,
   "id": "1e52698f",
   "metadata": {},
   "outputs": [],
   "source": [
    "plt.figure(dpi=150)\n",
    "ax = pd.plotting.parallel_coordinates(df, \"isin\", colormap=\"tab10\", alpha=0.75)\n",
    "_ = ax.set_title(\"Return excl. TER\")"
   ]
  },
  {
   "cell_type": "code",
   "execution_count": null,
   "id": "1935023d",
   "metadata": {},
   "outputs": [],
   "source": [
    "plt.figure(dpi=150)\n",
    "ax = pd.plotting.parallel_coordinates(cum_df, \"isin\", colormap=\"tab10\", alpha=0.75)\n",
    "_ = ax.set_title(\"Cumulative return since year excl. TER\")"
   ]
  }
 ],
 "metadata": {
  "kernelspec": {
   "display_name": "Python 3 (ipykernel)",
   "language": "python",
   "name": "python3"
  },
  "language_info": {
   "codemirror_mode": {
    "name": "ipython",
    "version": 3
   },
   "file_extension": ".py",
   "mimetype": "text/x-python",
   "name": "python",
   "nbconvert_exporter": "python",
   "pygments_lexer": "ipython3",
   "version": "3.8.10"
  }
 },
 "nbformat": 4,
 "nbformat_minor": 5
}
