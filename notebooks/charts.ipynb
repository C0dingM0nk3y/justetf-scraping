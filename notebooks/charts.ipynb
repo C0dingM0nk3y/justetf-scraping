{
 "cells": [
  {
   "cell_type": "code",
   "execution_count": null,
   "id": "35484770-901a-4f7e-826d-496ec6bcdec2",
   "metadata": {},
   "outputs": [],
   "source": [
    "import pandas as pd\n",
    "import seaborn as sns\n",
    "\n",
    "import justetf_scraping"
   ]
  },
  {
   "cell_type": "code",
   "execution_count": null,
   "id": "d0bac4ed-c7b0-44bd-9872-b10d601e4526",
   "metadata": {},
   "outputs": [],
   "source": [
    "pd.set_option(\"display.max_columns\", None)"
   ]
  },
  {
   "cell_type": "code",
   "execution_count": null,
   "id": "ab32edbd-3947-4df7-8574-88c18389db2d",
   "metadata": {},
   "outputs": [],
   "source": [
    "msci_world_df = justetf_scraping.get_overview(\n",
    "    strategy=\"epg-longOnly\", index=\"MSCI World\"\n",
    ")\n",
    "msci_em_df = justetf_scraping.get_overview(\n",
    "    strategy=\"epg-longOnly\", index=\"MSCI Emerging Markets\"\n",
    ")"
   ]
  },
  {
   "cell_type": "code",
   "execution_count": null,
   "id": "7a744c94-b4f0-46de-8c9a-e3c922493a9a",
   "metadata": {},
   "outputs": [],
   "source": [
    "msci_world_df = msci_world_df[msci_world_df[\"age_in_years\"] > 14]\n",
    "msci_em_df = msci_em_df[msci_em_df[\"age_in_years\"] > 14]"
   ]
  },
  {
   "cell_type": "code",
   "execution_count": null,
   "id": "1a11feb7-2f50-4344-b286-92941993f0f5",
   "metadata": {},
   "outputs": [],
   "source": [
    "msci_world_charts = {\n",
    "    isin: justetf_scraping.load_chart(isin) for isin in msci_world_df[\"isin\"]\n",
    "}\n",
    "msci_em_charts = {\n",
    "    isin: justetf_scraping.load_chart(isin) for isin in msci_em_df[\"isin\"]\n",
    "}"
   ]
  },
  {
   "cell_type": "code",
   "execution_count": null,
   "id": "a9882c2e-dce1-48ac-898c-101d4f010c9b",
   "metadata": {},
   "outputs": [],
   "source": [
    "msci_world_df"
   ]
  },
  {
   "cell_type": "code",
   "execution_count": null,
   "id": "86f08a54-d2f4-4736-856b-904dbb5d6a8e",
   "metadata": {},
   "outputs": [],
   "source": [
    "comparison_df = justetf_scraping.compare_charts(\n",
    "    {isin: msci_world_charts[isin] for isin in msci_world_df[\"isin\"]},\n",
    "    input_value=\"quote\",\n",
    ")\n",
    "sns.lineplot(comparison_df)"
   ]
  },
  {
   "cell_type": "code",
   "execution_count": null,
   "id": "ae218498-0421-41fd-8e40-1422c9028f15",
   "metadata": {},
   "outputs": [],
   "source": [
    "comparison_df = justetf_scraping.compare_charts(\n",
    "    {isin: msci_world_charts[isin] for isin in msci_world_df[\"isin\"]},\n",
    "    input_value=\"quote_with_dividends\",\n",
    ")\n",
    "sns.lineplot(comparison_df)"
   ]
  },
  {
   "cell_type": "code",
   "execution_count": null,
   "id": "e6aabca4-72fd-4929-8ed5-0a43ed0f5436",
   "metadata": {},
   "outputs": [],
   "source": [
    "comparison_df = justetf_scraping.compare_charts(\n",
    "    {isin: msci_world_charts[isin] for isin in msci_world_df[\"isin\"]},\n",
    "    input_value=\"quote_with_reinvested_dividends\",\n",
    ")\n",
    "sns.lineplot(comparison_df)"
   ]
  },
  {
   "cell_type": "code",
   "execution_count": null,
   "id": "d864ded9-bacb-4d71-880f-4a80fcb6b392",
   "metadata": {},
   "outputs": [],
   "source": [
    "comparison_df = justetf_scraping.compare_charts(\n",
    "    {isin: msci_world_charts[isin] for isin in msci_world_df[\"isin\"]}, dates=\"longest\"\n",
    ")\n",
    "sns.lineplot(comparison_df)"
   ]
  }
 ],
 "metadata": {
  "kernelspec": {
   "display_name": "Python 3 (ipykernel)",
   "language": "python",
   "name": "python3"
  },
  "language_info": {
   "codemirror_mode": {
    "name": "ipython",
    "version": 3
   },
   "file_extension": ".py",
   "mimetype": "text/x-python",
   "name": "python",
   "nbconvert_exporter": "python",
   "pygments_lexer": "ipython3",
   "version": "3.8.10"
  }
 },
 "nbformat": 4,
 "nbformat_minor": 5
}
